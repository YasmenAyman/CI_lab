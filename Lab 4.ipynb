{
 "cells": [
  {
   "cell_type": "markdown",
   "metadata": {},
   "source": [
    "## Real GA"
   ]
  },
  {
   "cell_type": "markdown",
   "metadata": {},
   "source": [
    "In this lab we are going to implement: <br>\n",
    "    * Real population initialization\n",
    "    * Arithmetic Crossover\n",
    "    * Guassian Mutation"
   ]
  },
  {
   "cell_type": "code",
   "execution_count": 2,
   "metadata": {
    "collapsed": true
   },
   "outputs": [],
   "source": [
    "import numpy as np"
   ]
  },
  {
   "cell_type": "code",
   "execution_count": 3,
   "metadata": {
    "collapsed": true
   },
   "outputs": [],
   "source": [
    "def create_initial_pop(pop_size,variables_min,variables_max):\n",
    "    \"\"\"\n",
    "    This function is used to initialize population of random variables within a specific range\n",
    "    Args:\n",
    "        pop_size: number of individuals in a population\n",
    "        variables_min: an array representing the lower limit for each variable in the population ex. [0,5] if we have 2 variables\n",
    "        variables_max: an array representing the lower limit for each variable in the population ex. [3,9] if we have 2 variables\n",
    "    \"\"\"\n",
    "    # Write your code here\n",
    "    return init_pop"
   ]
  },
  {
   "cell_type": "code",
   "execution_count": 4,
   "metadata": {
    "collapsed": true
   },
   "outputs": [],
   "source": [
    "def arithmetic_crossover (two_parents, pcross):\n",
    "    \"\"\"\n",
    "    This function is used to implement arithmetic crossover.\n",
    "    We use the following equation:\n",
    "        offspring = w*parent_one + (1-w)*parent_two\n",
    "        w is a random number  between 0 and 1\n",
    "    Args:\n",
    "        two_parents: a 2d-array (2 X  number of decision variables) \n",
    "        pcross: a single value representing the probability of cross over\n",
    "    \"\"\"\n",
    "    # Write your code here:\n",
    "    return two_children"
   ]
  },
  {
   "cell_type": "code",
   "execution_count": 5,
   "metadata": {
    "collapsed": true
   },
   "outputs": [],
   "source": [
    "def gaussian_mutate(individual,sigma,pmute,variables_min, variables_max):\n",
    "    \n",
    "    \"\"\"\n",
    "    This function is used to implement Gaussian mutation\n",
    "    Args:\n",
    "       individual: a 1D array (1 X number of decision variables) representing the chromosome we need to mutate\n",
    "       sigma: the standard deviation for the Gaussian distribution\n",
    "       pmute: probability of mutation\n",
    "       variables_max: an array representing the upper limit for each variable in the population ex. [3,9] if we have 2 variables\n",
    "       variables_min: an array representing the lower limit for each variable in the population ex. [0,5] if we have 2 variables\n",
    "   Mutated individual = the original individual + m\n",
    "   m is a random vector from 1 to chromosome length (= number of decision variables)\n",
    "   The entries in m are normally distributed according to N(0,sigma)\n",
    "   The mutated individual is scaled according to the interval of the original parent variables_max,variables_min\n",
    "    \"\"\"\n",
    "    # Write your code here:\n",
    "    return mutated_individual"
   ]
  },
  {
   "cell_type": "code",
   "execution_count": null,
   "metadata": {
    "collapsed": true
   },
   "outputs": [],
   "source": []
  },
  {
   "cell_type": "code",
   "execution_count": 6,
   "metadata": {
    "collapsed": true
   },
   "outputs": [],
   "source": [
    "def create_initial_pop(pop_size,variables_min,variables_max):\n",
    "    \"\"\"\n",
    "    This function is used to initialize population of random variables within a specific range\n",
    "    Args:\n",
    "        pop_size: number of individuals in a population\n",
    "        variables_min: an array representing the lower limit for each variable in the population ex. [0,5] if we have 2 variables\n",
    "        variables_max: an array representing the lower limit for each variable in the population ex. [3,9] if we have 2 variables\n",
    "    \"\"\"\n",
    "    number_variables = len(variables_max)\n",
    "    init_pop = np.zeros((pop_size,number_variables))  \n",
    "    for i in range(number_variables):\n",
    "        init_pop[:,i] = np.random.uniform(variables_min[i],variables_max[i],pop_size)\n",
    "    return init_pop"
   ]
  },
  {
   "cell_type": "code",
   "execution_count": 7,
   "metadata": {
    "collapsed": false
   },
   "outputs": [
    {
     "data": {
      "text/plain": [
       "array([[ 1.9121908 ,  8.91896722],\n",
       "       [ 0.11267089,  8.41990187],\n",
       "       [ 0.58101084,  8.14990573],\n",
       "       [ 2.74349097,  7.24043913],\n",
       "       [ 0.59285784,  5.97095971],\n",
       "       [ 1.28818862,  5.23311514],\n",
       "       [ 1.00978957,  5.23837845],\n",
       "       [ 1.35992457,  5.13979773],\n",
       "       [ 2.48975923,  5.35365057],\n",
       "       [ 1.21581485,  6.06868271],\n",
       "       [ 1.12999479,  7.00658683],\n",
       "       [ 1.25481937,  5.61777247],\n",
       "       [ 0.77500268,  8.30065051],\n",
       "       [ 1.10797306,  7.30407068],\n",
       "       [ 1.81771233,  5.45768216]])"
      ]
     },
     "execution_count": 7,
     "metadata": {},
     "output_type": "execute_result"
    }
   ],
   "source": [
    "init_pop = create_initial_pop(15,[0,5],[3,9])\n",
    "init_pop"
   ]
  },
  {
   "cell_type": "code",
   "execution_count": 8,
   "metadata": {
    "collapsed": true
   },
   "outputs": [],
   "source": [
    "def arithmetic_crossover (two_parents, pcross):\n",
    "    \"\"\"\n",
    "    This function is used to implement arithmetic crossover.\n",
    "    We use the following equation:\n",
    "        offspring = w*parent_one + (1-w)*parent_two\n",
    "        w is a random number  between 0 and 1\n",
    "    Args:\n",
    "        two_parents: a 2d-array (2 X  number of decision variables) \n",
    "        pcross: a single value representing the probability of cross over\n",
    "    \"\"\"\n",
    "    \n",
    "    two_children= two_parents[:,:]\n",
    "    x = np.random.random()\n",
    "    if  x <= pcross: \n",
    "        w1= np.random.random()\n",
    "        w2= np.random.random()\n",
    "        two_children[0,:] = w1*two_parents[0,:] + (1-w1)*two_parents[1,:]\n",
    "        two_children[1,:] = w2*two_parents[0,:] + (1-w2)*two_parents[1,:]\n",
    "    return two_children"
   ]
  },
  {
   "cell_type": "code",
   "execution_count": 9,
   "metadata": {
    "collapsed": false
   },
   "outputs": [
    {
     "data": {
      "text/plain": [
       "array([[ 1.0739701 ,  8.68650138],\n",
       "       [ 0.64167955,  8.56661317]])"
      ]
     },
     "execution_count": 9,
     "metadata": {},
     "output_type": "execute_result"
    }
   ],
   "source": [
    "two_parents = init_pop[0:2,:]\n",
    "two_children = arithmetic_crossover(two_parents, 0.9)\n",
    "two_children"
   ]
  },
  {
   "cell_type": "code",
   "execution_count": 10,
   "metadata": {
    "collapsed": true
   },
   "outputs": [],
   "source": [
    "def gaussian_mutate(individual,sigma,pmute,variables_min, variables_max):\n",
    "    \n",
    "    \"\"\"\n",
    "    This function is used to implement Gaussian mutation\n",
    "    Args:\n",
    "       individual: a 1D array (1 X number of decision variables) representing the chromosome we need to mutate\n",
    "       sigma: the standard deviation for the Gaussian distribution\n",
    "       pmute: probability of mutation\n",
    "       variables_max: an array representing the upper limit for each variable in the population ex. [3,9] if we have 2 variables\n",
    "       variables_min: an array representing the lower limit for each variable in the population ex. [0,5] if we have 2 variables\n",
    "   Mutated individual = the original individual + m\n",
    "   m is a random vector from 1 to chromosome length (= number of decision variables)\n",
    "   The entries in m are normally distributed according to N(0,sigma)\n",
    "   The mutated individual is scaled according to the interval of the original parent variables_max,variables_min\n",
    "    \"\"\"\n",
    "    mutated_individual = individual[:]\n",
    "    if np.random.random() < pmute:  \n",
    "        mu = 0\n",
    "        m = np.random.normal(mu, sigma, len(individual))\n",
    "        mutated_individual= np.array(individual) + m\n",
    "        \n",
    "    for j in range(len(individual)):\n",
    "        #if the variable breaks the upper and lower limits after mutation, allocate it on the upper or lower boundries\n",
    "        if mutated_individual[j] > variables_max[j] :\n",
    "            mutated_individual[j] = variables_max[j]\n",
    "        elif mutated_individual[j] < variables_min[j] :\n",
    "            mutated_individual[j] = variables_min[j]\n",
    "\n",
    "    return mutated_individual"
   ]
  },
  {
   "cell_type": "code",
   "execution_count": 11,
   "metadata": {
    "collapsed": false
   },
   "outputs": [
    {
     "data": {
      "text/plain": [
       "array([ 2.72541635,  9.02924237])"
      ]
     },
     "execution_count": 11,
     "metadata": {},
     "output_type": "execute_result"
    }
   ],
   "source": [
    "mutated_individual = gaussian_mutate([2.563,8.99],1,1,[0,5], [3,10])\n",
    "mutated_individual"
   ]
  },
  {
   "cell_type": "markdown",
   "metadata": {
    "collapsed": true
   },
   "source": [
    "## Assignment"
   ]
  },
  {
   "cell_type": "markdown",
   "metadata": {},
   "source": [
    "1. Solve the following optimization problem using Real GA (Note: it is the same problem used in your last assignment):\n",
    "    Maximize F(x,y) = 8 – (x+ 0.0317)^2 + (y)^2, where -2 ≤ x, y ≤ 2.\n",
    "    You should follow the same structure we use in the lab notebooks; \n",
    "    (there are functions for: population intialization, objective function evaluation, crossover, mutation, \n",
    "     selection the main GA ...etc), you will use the following operators: \n",
    "        * Tournament Selection\n",
    "        * Arithmetic crossover\n",
    "        * Guassian Mutation\n",
    "2. Submission deadline is 22/3/2019 at 11:59 pm.\n",
    "3. Please send your assignment to cicourse2014@gmail.com.\n",
    "4. The email subject should be: YourName_ID_AssignmentNumber.\n",
    "5. Also the file name should be: YourName_ID_AssignmentNumber.\n",
    "6. You either send .ipynb file or .py file.\n",
    "    "
   ]
  },
  {
   "cell_type": "code",
   "execution_count": null,
   "metadata": {
    "collapsed": true
   },
   "outputs": [],
   "source": []
  }
 ],
 "metadata": {
  "kernelspec": {
   "display_name": "Python 2",
   "language": "python",
   "name": "python2"
  },
  "language_info": {
   "codemirror_mode": {
    "name": "ipython",
    "version": 2
   },
   "file_extension": ".py",
   "mimetype": "text/x-python",
   "name": "python",
   "nbconvert_exporter": "python",
   "pygments_lexer": "ipython2",
   "version": "2.7.12"
  }
 },
 "nbformat": 4,
 "nbformat_minor": 0
}

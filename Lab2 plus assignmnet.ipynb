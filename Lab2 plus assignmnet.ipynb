{
 "cells": [
  {
   "cell_type": "markdown",
   "metadata": {},
   "source": [
    "We are going to implement oneMax problem. First, we will have a brief introduction about GA pseudo-code then we dive into implementation. "
   ]
  },
  {
   "cell_type": "markdown",
   "metadata": {},
   "source": [
    "\n",
    "\n",
    "![caption](Capture.JPG)\n",
    "\n",
    "\n",
    "\n"
   ]
  },
  {
   "cell_type": "code",
   "execution_count": 2,
   "metadata": {
    "collapsed": true
   },
   "outputs": [],
   "source": [
    "import numpy as np"
   ]
  },
  {
   "cell_type": "code",
   "execution_count": 7,
   "metadata": {
    "collapsed": true
   },
   "outputs": [],
   "source": [
    "def initPopBinary(npop,clen):  # Use this function to generate the initial population for binary GA\n",
    "    # npop: population size\n",
    "    # clen: chromosome length\n",
    "    # Write your code here:\n",
    "    pop = np.random.randint(0,2,(npop,clen))\n",
    "    \n",
    "    return pop # pop: a 2D  (npop X clen) containing the initial randomly generated population."
   ]
  },
  {
   "cell_type": "code",
   "execution_count": 8,
   "metadata": {
    "collapsed": false
   },
   "outputs": [
    {
     "data": {
      "text/plain": [
       "array([[1, 0, 1, 0, 0, 1, 1],\n",
       "       [0, 0, 0, 1, 0, 1, 1],\n",
       "       [0, 0, 0, 0, 1, 1, 0]])"
      ]
     },
     "execution_count": 8,
     "metadata": {},
     "output_type": "execute_result"
    }
   ],
   "source": [
    "pop = initPopBinary(3,7)\n",
    "pop"
   ]
  },
  {
   "cell_type": "code",
   "execution_count": 9,
   "metadata": {
    "collapsed": true
   },
   "outputs": [],
   "source": [
    "def oneMaxI(chromosome): # Use this function to calculate the fitness function (onemax) for a single chromosome\n",
    "    # The fitness function used in here is onemax (Number of ones in a chromosome, ex: [1 1 0 0 1], fitness=3)\n",
    "    # chromosome: single individual from the population\n",
    "    # Write your code here:\n",
    "    chromoseomFitness = sum(chromosome)\n",
    "    return chromoseomFitness # chromoseomFitness: a value representing a specific chromosome fitness value"
   ]
  },
  {
   "cell_type": "code",
   "execution_count": 10,
   "metadata": {
    "collapsed": false
   },
   "outputs": [
    {
     "data": {
      "text/plain": [
       "4"
      ]
     },
     "execution_count": 10,
     "metadata": {},
     "output_type": "execute_result"
    }
   ],
   "source": [
    "fitness=oneMaxI([1,1,1,0,0,1])\n",
    "fitness"
   ]
  },
  {
   "cell_type": "code",
   "execution_count": 14,
   "metadata": {
    "collapsed": true
   },
   "outputs": [],
   "source": [
    "def oneMaxP(pop,npop): # Use this function to calculate the fitness function for the whole population\n",
    "    # pop: chromosomes population (2D array (npop X clen))\n",
    "    # npop: population size\n",
    "    # Write your code here:\n",
    "    #popFit = [oneMaxI(i) for i in pop]\n",
    "    popFit = np.zeros(npop)\n",
    "    for i in range(npop):\n",
    "        popFit[i] = oneMaxI(pop[i])\n",
    "    return popFit # popFit: a one dimension array of the population size (npop) \n",
    "    #including the fitness value for all the individuals in the population"
   ]
  },
  {
   "cell_type": "code",
   "execution_count": 15,
   "metadata": {
    "collapsed": false
   },
   "outputs": [
    {
     "data": {
      "text/plain": [
       "array([ 4.,  3.,  2.])"
      ]
     },
     "execution_count": 15,
     "metadata": {},
     "output_type": "execute_result"
    }
   ],
   "source": [
    "#pop = np.array([[1,1,1,0,0,1],[1,1,1,0,0,0]])\n",
    "popFit = oneMaxP(pop,3)\n",
    "popFit"
   ]
  },
  {
   "cell_type": "code",
   "execution_count": 16,
   "metadata": {
    "collapsed": true
   },
   "outputs": [],
   "source": [
    "def selectionProb(popFit): # Use this function to calculate the selection probability for each individual in the population\n",
    "    # popFit: a one dimension array of the population size (npop) including the fitness value \n",
    "    # for all the individuals in the population\n",
    "    # Write your code here:\n",
    "    #probs =  np.array(popFit, dtype='f')/sum(popFit)\n",
    "    totalFitness = sum(popFit)\n",
    "    probs = [i/totalFitness for i in popFit]\n",
    "    return probs # probs: a one dimension array representing the selection probabilities for every individual in the population"
   ]
  },
  {
   "cell_type": "code",
   "execution_count": 17,
   "metadata": {
    "collapsed": false
   },
   "outputs": [
    {
     "data": {
      "text/plain": [
       "[0.44444444444444442, 0.33333333333333331, 0.22222222222222221]"
      ]
     },
     "execution_count": 17,
     "metadata": {},
     "output_type": "execute_result"
    }
   ],
   "source": [
    "probs = selectionProb(popFit)\n",
    "probs"
   ]
  },
  {
   "cell_type": "code",
   "execution_count": 18,
   "metadata": {
    "collapsed": true
   },
   "outputs": [],
   "source": [
    "def cumProb(probs): # Use this function to calculate the cummulative probabilities for each individual in the population, \n",
    "    # ex: probs= [0.1667, 0.5, 0.0833, 0.25],\n",
    "    # cprob =[0.1667, 0.6667, 0.75, 1].\n",
    "    # probs: a one dimension array representing the selection probabilities for every individual in the population\n",
    "    # Write your code here:\n",
    "    cprob = np.zeros_like(probs)\n",
    "    cprob[0] = probs[0]\n",
    "    for i in range(1,len(probs)):\n",
    "        cprob[i] = cprob[i-1] + probs[i]\n",
    "        \n",
    "    return cprob #cprob a vector representing cummlative probability for each individual in the population"
   ]
  },
  {
   "cell_type": "code",
   "execution_count": 19,
   "metadata": {
    "collapsed": false
   },
   "outputs": [
    {
     "data": {
      "text/plain": [
       "array([ 0.44444444,  0.77777778,  1.        ])"
      ]
     },
     "execution_count": 19,
     "metadata": {},
     "output_type": "execute_result"
    }
   ],
   "source": [
    "cprob = cumProb(probs)\n",
    "cprob"
   ]
  },
  {
   "cell_type": "code",
   "execution_count": 26,
   "metadata": {
    "collapsed": false
   },
   "outputs": [],
   "source": [
    "def rouletteWheel(cprob): # Use this function to implement the roulette wheel selection, to select a single parent index\n",
    "    #cprob: cummlative probability for each individual in the population\n",
    "    # Write your code here:\n",
    "    r = np.random.random()\n",
    "    for i in range(len(cprob)):\n",
    "        if r <= cprob[i]:\n",
    "            indx = i\n",
    "            return indx\n",
    "        \n",
    "    #return indx # indx: a value represents the index of the selected parent"
   ]
  },
  {
   "cell_type": "code",
   "execution_count": 27,
   "metadata": {
    "collapsed": false
   },
   "outputs": [
    {
     "data": {
      "text/plain": [
       "2"
      ]
     },
     "execution_count": 27,
     "metadata": {},
     "output_type": "execute_result"
    }
   ],
   "source": [
    "indx = rouletteWheel(cprob)\n",
    "indx"
   ]
  },
  {
   "cell_type": "code",
   "execution_count": 28,
   "metadata": {
    "collapsed": true
   },
   "outputs": [],
   "source": [
    "def rouletteSelect(cprob,pop): # Use this function to return 2 selected parents, \n",
    "    #hint: you will use the roulette_wheel function here\n",
    "    #cprob: a vector representing cummlative probability for each individual in the population\n",
    "    #pop: chromosomes population (2D array (npop X clen)\n",
    "    #Write your code here:\n",
    "    twoParents = np.zeros((2,np.size(pop,1)))\n",
    "    for i in range(2):\n",
    "        indx = rouletteWheel(cprob)\n",
    "        twoParents[i,:] = pop[indx,:]\n",
    "    return twoParents #twoParents: a (2 X clen) matrix"
   ]
  },
  {
   "cell_type": "code",
   "execution_count": 29,
   "metadata": {
    "collapsed": false
   },
   "outputs": [
    {
     "data": {
      "text/plain": [
       "array([[ 0.,  0.,  0.,  0.,  1.,  1.,  0.],\n",
       "       [ 0.,  0.,  0.,  1.,  0.,  1.,  1.]])"
      ]
     },
     "execution_count": 29,
     "metadata": {},
     "output_type": "execute_result"
    }
   ],
   "source": [
    "twoParents = rouletteSelect(cprob,pop)\n",
    "twoParents"
   ]
  },
  {
   "cell_type": "code",
   "execution_count": null,
   "metadata": {
    "collapsed": false
   },
   "outputs": [],
   "source": [
    "def binCross(twoParents, pcross,clen): # Use this function to implement single point cross over\n",
    "    #twoParents: a (2 X clen) matrix\n",
    "    # pcross: a single value representing the probability of cross over\n",
    "    # Write your code here:\n",
    "\n",
    "    return twoChildren # twoChildren: a (2 X clen) matrix representing the 2 offsprings"
   ]
  },
  {
   "cell_type": "code",
   "execution_count": null,
   "metadata": {
    "collapsed": false
   },
   "outputs": [],
   "source": [
    "pcross = 1 #I am using 1 just for illustration purposes\n",
    "clen = len(twoParents[1])\n",
    "twoChildren = binCross(twoParents, pcross,clen)\n",
    "twoChildren"
   ]
  },
  {
   "cell_type": "code",
   "execution_count": null,
   "metadata": {
    "collapsed": false
   },
   "outputs": [],
   "source": [
    "def binMutate(individual,pmute,clen): # Use this function to implement bit flip mutation\n",
    "    # individual: a 1D array (1 X clen) representing the chromosome we need to mutate\n",
    "    # pmute: a single value representing the probability of mutation\n",
    "    # Write your code here:\n",
    "    \n",
    "    \n",
    "    return mutatedInd # mutatedInd: a 1D array (1 X clen) representing the chromosome after mutation"
   ]
  },
  {
   "cell_type": "code",
   "execution_count": null,
   "metadata": {
    "collapsed": false
   },
   "outputs": [],
   "source": [
    "pmute = 1 #it should be a very small number, I am using 1 just for illustration purposes\n",
    "individual = twoChildren[1]\n",
    "clen = len(individual)\n",
    "mutatedInd = binMutate(individual,pmute,clen)\n",
    "mutatedInd"
   ]
  },
  {
   "cell_type": "code",
   "execution_count": null,
   "metadata": {
    "collapsed": true
   },
   "outputs": [],
   "source": [
    "def runBinGA(npop, clen, ngen, pcross, pmute):\n",
    "    # Use this function as the main function for your code (Put all the functions together)\n",
    "    # npop: population size\n",
    "    # clen: chromosome length\n",
    "    # ngen: number of generations\n",
    "    # pcross: probability of cross over\n",
    "    # pmute: probability of mutation\n",
    "\n",
    "    #Remember the main steps for GA are:\n",
    "    # 1) Initialization\n",
    "    # 2) Selection\n",
    "    # 3) Crossover\n",
    "    # 4) Mutation\n",
    "    # 5) Replacement (Here we replace the entire older population with the new one)\n",
    "    # Write your code here:\n",
    "\n",
    "    return finpop,bestHist\n",
    "      # finpop: a 2D array (npop X clen) representing the final population (at the last generation)\n",
    "      #best_hist: a vector containing the history of highest fitness in the population at each generation"
   ]
  },
  {
   "cell_type": "code",
   "execution_count": null,
   "metadata": {
    "collapsed": false
   },
   "outputs": [],
   "source": [
    "npop, clen, ngen, pcross, pmute = 30,5,10,2,0.01\n",
    "finpop,bestHist = runBinGA(npop, clen, ngen, pcross, pmute)"
   ]
  },
  {
   "cell_type": "code",
   "execution_count": null,
   "metadata": {
    "collapsed": false
   },
   "outputs": [],
   "source": [
    "finpop"
   ]
  },
  {
   "cell_type": "code",
   "execution_count": null,
   "metadata": {
    "collapsed": false
   },
   "outputs": [],
   "source": [
    "bestHist"
   ]
  },
  {
   "cell_type": "markdown",
   "metadata": {
    "collapsed": true
   },
   "source": [
    "## Assignment"
   ]
  },
  {
   "cell_type": "markdown",
   "metadata": {},
   "source": [
    "1. You need to complete the functions we didn't cover in the lab to finish the GA solving oneMax problem.\n",
    "2. After solving oneMax, you need to write code to solve the following optimization problem:\n",
    "    Maximize F(x,y) = 8 – (x+ 0.0317)^2 + (y)^2, where -2 ≤ x, y ≤ 2.\n",
    "    You should follow the same structure we use in this notebook, mainly you will add functions for: \n",
    "        * Binary Decoding\n",
    "        * Objective function evaluation\n",
    "        * Ranking Selection\n",
    "        * Modify the initialization function\n",
    "3. Submission deadline is 8/3/2019 at 11:59 pm.\n",
    "4. Please send your assignment to cicourse2014@gmail.com.\n",
    "5. The email subject should be: YourName_ID_AssignmentNumber.\n",
    "6. Also the file name should be: YourName_ID_AssignmentNumber.\n",
    "7. You either send .ipynb file or .py file.\n",
    "    "
   ]
  },
  {
   "cell_type": "code",
   "execution_count": null,
   "metadata": {
    "collapsed": true
   },
   "outputs": [],
   "source": []
  }
 ],
 "metadata": {
  "kernelspec": {
   "display_name": "Python 2",
   "language": "python",
   "name": "python2"
  },
  "language_info": {
   "codemirror_mode": {
    "name": "ipython",
    "version": 2
   },
   "file_extension": ".py",
   "mimetype": "text/x-python",
   "name": "python",
   "nbconvert_exporter": "python",
   "pygments_lexer": "ipython2",
   "version": "2.7.12"
  }
 },
 "nbformat": 4,
 "nbformat_minor": 0
}

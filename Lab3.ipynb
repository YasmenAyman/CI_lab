{
 "cells": [
  {
   "cell_type": "code",
   "execution_count": 1,
   "metadata": {
    "collapsed": true
   },
   "outputs": [],
   "source": [
    "#Elitism\n",
    "#Passing fittest indv into next pop\n",
    "#two parts one in main, other seperate equation\n",
    "#sepeare equation part\n",
    "def getFittest(pop):\n",
    "    fittest = 0\n",
    "    popFit = onemax(pop)\n",
    "    for i in range(len(popFit)):\n",
    "        if popFit[fittest] <= popFit[i]:\n",
    "            fittest = i\n",
    "            \n",
    "    return fittest"
   ]
  },
  {
   "cell_type": "code",
   "execution_count": 2,
   "metadata": {
    "collapsed": true
   },
   "outputs": [],
   "source": [
    "#Help from previous lab\n",
    "def Fitness(pop):\n",
    "    return [sum(i) for i in pop]\n",
    "\n",
    "def onemax(pop):\n",
    "    #s=sum([sum(i) for i in pop])\n",
    "    return [sum(i) for i in pop]"
   ]
  },
  {
   "cell_type": "code",
   "execution_count": 3,
   "metadata": {},
   "outputs": [
    {
     "name": "stdout",
     "output_type": "stream",
     "text": [
      "[[1 1 1 1 0]\n",
      " [0 1 1 1 0]\n",
      " [1 1 1 0 0]\n",
      " [1 0 1 0 0]\n",
      " [1 1 0 1 0]]\n"
     ]
    },
    {
     "data": {
      "text/plain": [
       "0"
      ]
     },
     "execution_count": 3,
     "metadata": {},
     "output_type": "execute_result"
    }
   ],
   "source": [
    "import numpy as np\n",
    "pop=np.random.randint(0,2,size=(5,5))\n",
    "print(pop)\n",
    "getFittest(pop)"
   ]
  },
  {
   "cell_type": "code",
   "execution_count": 4,
   "metadata": {
    "collapsed": true
   },
   "outputs": [],
   "source": [
    "#What if size of elitism is >1\n",
    "#you need to something in main GA?"
   ]
  },
  {
   "cell_type": "markdown",
   "metadata": {},
   "source": [
    "### Decoding binary string\n",
    "$$ \\sum_{j=0}^{L-1} x[j]*2^{L-j-1} $$\n",
    "\n",
    "### and then within specific range\n",
    "$$ x=x_{min}+\\dfrac{\\sum_{j=0}^{L-1} x[j]*2^{L-j-1}}{2^L} * (x_{max}-x_{min})$$"
   ]
  },
  {
   "cell_type": "code",
   "execution_count": 5,
   "metadata": {
    "collapsed": true
   },
   "outputs": [],
   "source": [
    "#Decoding\n",
    "#converting from binary values to real one\n",
    "#using formula you took in lecture\n",
    "#take indv and ranges\n",
    "#returns real values\n",
    "#assume variable length is 5\n",
    "def decodeInd(binaryInd, R_min=-2,R_max=2,vLength=5):\n",
    "    l = np.size(binaryInd)\n",
    "    binsum = 0\n",
    "    for i in range(l):\n",
    "        binsum = binsum + binaryInd * (2**(l-i-1))\n",
    "    \n",
    "    x = R_min+(binsum/2**(l))*(R_max-R_min)\n",
    "    return x"
   ]
  },
  {
   "cell_type": "code",
   "execution_count": 6,
   "metadata": {},
   "outputs": [
    {
     "name": "stdout",
     "output_type": "stream",
     "text": [
      "[0 0 0 1 0]\n"
     ]
    },
    {
     "data": {
      "text/plain": [
       "-5.0"
      ]
     },
     "execution_count": 6,
     "metadata": {},
     "output_type": "execute_result"
    }
   ],
   "source": [
    "import numpy as np\n",
    "pop=np.random.randint(0,2,size=(5))\n",
    "print(pop)\n",
    "#print(np.size(pop))\n",
    "#print(pop[0])\n",
    "decodeInd(pop[0],-5,5)"
   ]
  },
  {
   "cell_type": "code",
   "execution_count": 7,
   "metadata": {
    "collapsed": true
   },
   "outputs": [],
   "source": [
    "#implementation for more than one variable is left for you"
   ]
  },
  {
   "cell_type": "code",
   "execution_count": null,
   "metadata": {
    "collapsed": true
   },
   "outputs": [],
   "source": []
  },
  {
   "cell_type": "markdown",
   "metadata": {},
   "source": [
    "### Linear Rank selection\n",
    "$$ rank Fit = (2- SP)+2(1-SP)* (Rank(i)-1)/(N-1) $$"
   ]
  },
  {
   "cell_type": "code",
   "execution_count": 8,
   "metadata": {},
   "outputs": [
    {
     "name": "stdout",
     "output_type": "stream",
     "text": [
      "{0: 2, 1: 3, 2: 1, 3: 5, 4: 6}\n",
      "[2, 0, 1, 3, 4]\n"
     ]
    }
   ],
   "source": [
    "#Linear Rank\n",
    "#Problem with roulette wheeel is that when there's large fitness value for indv it'll prevent/\n",
    "#/other indvs from appearing leads to suboptimal solution\n",
    "#get sum from 1 to N (N -> number of indv)\n",
    "#get their rank according to fitness\n",
    "#apply formula\n",
    "def LinRank(pop):\n",
    "    n = np.size(pop,1)\n",
    "    sp = 1.5\n",
    "    totalFit = n*(n+1)/2\n",
    "    res=np.zeros((n))\n",
    "    popFit = onemax(pop)\n",
    "    popFit = [sum(pop[i]) for i in range(n)]\n",
    "    #print(res,\" \",n)\n",
    "    #popDict = {ind:FitValue for ind,FitValue in zip(range(n),popFit)}\n",
    "    popDict = {ind:value for (value, ind) in zip(popFit,range(n))}\n",
    "    #print(popDict)\n",
    "    for rank, ind in enumerate(sorted(popDict, key=popDict.get),1):\n",
    "        #print(rank,\" \",ind)\n",
    "        res[ind] = (2-sp)+2*(1-sp)*float(rank-1)/(totalFit-1)\n",
    "    return res\n",
    "\n",
    "ls=[2,3,1,5,6]\n",
    "popDict = {ind:FitValue for ind,FitValue in zip(range(5),ls)}\n",
    "print(popDict)\n",
    "print(sorted(popDict, key=popDict.get))"
   ]
  },
  {
   "cell_type": "code",
   "execution_count": 9,
   "metadata": {},
   "outputs": [
    {
     "name": "stdout",
     "output_type": "stream",
     "text": [
      "[[0 0 0 0 1]\n",
      " [0 0 0 1 0]\n",
      " [1 0 0 1 1]\n",
      " [0 1 0 0 1]\n",
      " [1 0 1 1 1]]\n",
      "5\n",
      "[0.5        0.42857143 0.28571429 0.35714286 0.21428571]\n"
     ]
    }
   ],
   "source": [
    "pop=np.random.randint(0,2,size=(5,5))\n",
    "print(pop)\n",
    "print(np.size(pop,1))\n",
    "print(LinRank(pop))"
   ]
  },
  {
   "cell_type": "code",
   "execution_count": 10,
   "metadata": {},
   "outputs": [
    {
     "name": "stdout",
     "output_type": "stream",
     "text": [
      "[1, 2, 3, 4, 5, 6, 7, 8, 9, 10]\n",
      "55   55.0\n"
     ]
    }
   ],
   "source": [
    "print(list(range(1,11)))\n",
    "ls=list(range(1,11))\n",
    "summation=sum(ls)\n",
    "n=10\n",
    "total=n*(n+1)/2\n",
    "print(summation,\" \",total)"
   ]
  },
  {
   "cell_type": "code",
   "execution_count": 11,
   "metadata": {
    "collapsed": true
   },
   "outputs": [],
   "source": [
    "#\n",
    "#\n",
    "#\n",
    "#\n",
    "#\n",
    "#\n",
    "#\n",
    "#\n",
    "#\n",
    "#\n",
    "#\n",
    "#\n",
    "#"
   ]
  },
  {
   "cell_type": "markdown",
   "metadata": {},
   "source": [
    "## Practice time\n",
    "### Tournament selection\n",
    "### 1)Get population and tournament size (size=2)\n",
    "### 2)Choose fittest from tournament array\n",
    "### 3)Then return two parents"
   ]
  },
  {
   "cell_type": "code",
   "execution_count": 12,
   "metadata": {
    "collapsed": true
   },
   "outputs": [],
   "source": [
    "def tourSelect(pop, tourSize):\n",
    "    #We need to get two parents\n",
    "    #Find a random chosen indivdiual from population\n",
    "    #repeat previous step with tourSize\n",
    "    #choose the highest fitness individual from random chosen indviduals\n",
    "    #the one with highest fitness is considered a parent\n",
    "    return twoParents\n",
    "#\n",
    "#\n",
    "#\n",
    "#\n",
    "#\n",
    "#\n",
    "#\n",
    "#\n",
    "#\n"
   ]
  },
  {
   "cell_type": "code",
   "execution_count": null,
   "metadata": {
    "collapsed": true
   },
   "outputs": [],
   "source": []
  }
 ],
 "metadata": {
  "kernelspec": {
   "display_name": "Python 3",
   "language": "python",
   "name": "python3"
  },
  "language_info": {
   "codemirror_mode": {
    "name": "ipython",
    "version": 3
   },
   "file_extension": ".py",
   "mimetype": "text/x-python",
   "name": "python",
   "nbconvert_exporter": "python",
   "pygments_lexer": "ipython3",
   "version": "3.6.6"
  }
 },
 "nbformat": 4,
 "nbformat_minor": 2
}

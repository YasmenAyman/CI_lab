{
 "cells": [
  {
   "cell_type": "markdown",
   "metadata": {
    "colab_type": "text",
    "id": "K6C_9CWIMDry"
   },
   "source": [
    "This PSO code here is **hardcoded** for a problem including 2 decision variables, you need to do the following:\n",
    "\n",
    "\n",
    "1.   Generalize the code to work for any problem including any number of dimensions(decision variables)\n",
    "2.   Fill in the missing parts in the code\n",
    "3.  Some lines include syntax or logical error, please modify them to have a working code,\n",
    "   Comment the line that include the error and then write your modification\n"
   ]
  },
  {
   "cell_type": "code",
   "execution_count": 1,
   "metadata": {
    "colab": {},
    "colab_type": "code",
    "collapsed": true,
    "id": "gpO0PN0uNGbj"
   },
   "outputs": [],
   "source": [
    "import numpy as np"
   ]
  },
  {
   "cell_type": "markdown",
   "metadata": {
    "colab_type": "text",
    "id": "vjlAvaUdUie1"
   },
   "source": [
    "This is the problem we need to solve:\n",
    "<br>\n",
    "$ Max$ $ z = sin(2x_1-0.5\\pi) + 3cos(x_2) + 0.5x_1 $\n",
    "<br> \n",
    "$ Where $\n",
    "$ -2 \\leq x_1 \\leq 3 $\n",
    "<br>\n",
    "$ and $\n",
    "$-2 \\leq x_2 \\leq 1 $"
   ]
  },
  {
   "cell_type": "code",
   "execution_count": 2,
   "metadata": {
    "colab": {},
    "colab_type": "code",
    "collapsed": false,
    "id": "HwCtgnjlMush"
   },
   "outputs": [],
   "source": [
    "def initpop(npop,x_max,x_min,v_max,dim):\n",
    "  # Use this function\n",
    "  #to generate the initial population for the PSO\n",
    "  #npop: population size\n",
    "  #x_max: the upper limit for each decision variable (positions). [10,12]\n",
    "  #x_min: the lower limit for each decision variable (positions). [1,2]\n",
    "  #v_max: the upper limit for each decision variable (velocity). [2,4]\n",
    "  #consider that the lower limit of the speed is equal to the upper limit\n",
    "  #dim: number of decision variables\n",
    "#   x_id = np.zeros((npop,2))\n",
    "#   v_id = np.zeros((npop,2))\n",
    "    \n",
    "#   x_id[:,0] = np.random.uniform(x_min[0],x_max[0],(npop))\n",
    "#   x_id[:,1] = np.random.uniform(x_min[1],x_max[1],(npop))\n",
    "    \n",
    "#   v_id[:,0] = np.random.uniform((-1*v_max[0]),v_max[0],(npop))\n",
    "#   v_id[:,1] = np.random.uniform((-1*v_max[1]),v_max[1],(npop))\n",
    "    x_id = np.zeros((npop,dim), dtype=float)\n",
    "    v_id = np.zeros((npop,dim),dtype=float)\n",
    "    for i in range(dim):\n",
    "            x_id[:,i] = np.random.uniform(x_min[i],x_max[i],(npop))\n",
    "            v_id[:,i] = np.random.uniform((-1*v_max[i]),v_max[i],(npop))\n",
    "    return x_id,v_id\n",
    "  #x_id: the initial positions. Array of arrays of npop*dim\n",
    "  #v_id: the initial velocities. Array f arrays of npop*dim\n"
   ]
  },
  {
   "cell_type": "code",
   "execution_count": 3,
   "metadata": {
    "colab": {},
    "colab_type": "code",
    "collapsed": true,
    "id": "BPENZg1SNLKj"
   },
   "outputs": [],
   "source": [
    "def fitCalc(x_i): \n",
    "  # Use this function to calculate the fitness for the particle\n",
    "  #The function is Max z= sin(2x1-0.5pi) + 3cos(x2) + 0.5x1\n",
    "  #x_i: single particle position\n",
    "  fitness = np.sin(2*x_i[0]-(0.5*np.pi)) + 3*np.cos(x_i[1]) + (0.5*x_i[0])\n",
    "  return fitness\n",
    "  #fitness: the fitness value of a signle particle.\n"
   ]
  },
  {
   "cell_type": "code",
   "execution_count": 4,
   "metadata": {
    "colab": {},
    "colab_type": "code",
    "collapsed": true,
    "id": "bT6cO-9MNjep"
   },
   "outputs": [],
   "source": [
    "def updatePid(x_i,x_fitness,p_i,particle_bestFit):\n",
    "  #Use this function to find single particle best position (particle own history)\n",
    "  #x_i: single particle position.\n",
    "  #p_i: the particle best position across all the previouse generations.\n",
    "  #particle_best: particles best fintess values across all the previouse generations.\n",
    "    \n",
    "    if x_fitness > particle_bestFit:  \n",
    "        #particle_bestFit = x_fitness\n",
    "        p_i = x_i\n",
    "     \n",
    "    return p_i#,particle_bestFit\n",
    "  #pi: the particle best position.\n",
    "  #particle_bestFit: particle best fintess values."
   ]
  },
  {
   "cell_type": "code",
   "execution_count": 5,
   "metadata": {
    "colab": {},
    "colab_type": "code",
    "collapsed": true,
    "id": "eUn-eB9FVojT"
   },
   "outputs": [],
   "source": [
    "def updatePgd(p_i,particle_bestFit,p_g,global_bestFit):\n",
    "    #Use this function to find the best position in the population\n",
    "    #p_i: a single particle best position\n",
    "    #particle_bestFit: a particle fitness value associated to p_i.\n",
    "    #p_g: a vector of 1*dim of representing the best position in the population across all the previouse generations\n",
    "    #global_bestFit: fitness value associated to the p_g\n",
    "\n",
    "    if particle_bestFit > global_bestFit:\n",
    "        p_g = p_i\n",
    "        global_bestFit = particle_bestFit\n",
    "    \n",
    "    return p_g,global_bestFit\n",
    "  #p_g: the best position in the population.\n",
    "  #global_bestFit: the best fitness in the population."
   ]
  },
  {
   "cell_type": "code",
   "execution_count": 6,
   "metadata": {
    "colab": {},
    "colab_type": "code",
    "collapsed": false,
    "id": "X2vhqJ93exNZ"
   },
   "outputs": [],
   "source": [
    "def updateVidXid(p_i,p_g,x_i,v_i,c_cog,c_soc,dim):#Use this function to calculate new particle velocity and position\n",
    "  #p_i: the particle best position across all the previouse generations.\n",
    "  #p_g: a vector of 1*d of the best position in the population across all the previouse generations\n",
    "  #x_i: single particle position.\n",
    "  #v_i: single particle velocity.\n",
    "  #c_cog: cognitive component accerlaration constant\n",
    "  #c_soc: social component accerlaration constant\n",
    "  \n",
    "  #The code is hardcoded, make it generic and modify any mistakes\n",
    "    r_cog = np.random.random(dim)\n",
    "    r_soc = np.random.random(dim)\n",
    "    v_i = np.array(v_i)+ (c_cog*np.multiply(r_cog,np.subtract(p_i,x_i))) + (c_soc*np.multiply(r_soc,np.subtract(p_g,x_i)))\n",
    "    x_i = np.array(x_i)+ v_i\n",
    "   \n",
    "    return x_i,v_i\n"
   ]
  },
  {
   "cell_type": "code",
   "execution_count": 7,
   "metadata": {
    "colab": {},
    "colab_type": "code",
    "collapsed": false,
    "id": "IZIp6WU_f85X"
   },
   "outputs": [],
   "source": [
    "def PSO(numItr,npop,x_max,x_min,v_max,dim,c_cog,c_soc):\n",
    "    #Use this function to put all the PSO algorithm together for number of iterations\n",
    "    #numItr: number of iterations.(generations)\n",
    "    #npop: population size\n",
    "    #x_max: the upper limit for each decision variable (positions). [10,12]\n",
    "    #x_min: the lower limit for each decision variable (positions). [1,2]\n",
    "    #v_max: the upper limit for each decision variable (velocity). [2,4]\n",
    "    #c_cog: cognitive constant (c1)\n",
    "    #c_soc: social constant (c2)\n",
    "    #dim: the number of decision variable.\n",
    "    \n",
    "    #Intialize\n",
    "    #best_hist = np.zeros(numItr,dtype=float)\n",
    "    x,v= initpop(npop,x_max,x_min,v_max,dim)\n",
    "    p = x[:] #particles' own experience\n",
    "    p_g = np.zeros(dim) #best position across all particles\n",
    "    global_bestFit = -100000000000 \n",
    "\n",
    "    #repeat till number of iterations\n",
    "    for iteration in range(numItr):\n",
    "\n",
    "        #Update particle best position and global best position\n",
    "        for i in range(npop):\n",
    "            p[i] = updatePid(x[i],fitCalc(x[i]),p[i],fitCalc(p[i]))\n",
    "            p_g,global_bestFit = updatePgd(p[i],fitCalc(p[i]),p_g,global_bestFit)\n",
    "\n",
    "        #best_hist[iteration] = global_bestFit\n",
    "\n",
    "        #Update velocity and position\n",
    "        for i in range(npop): \n",
    "            x[i],v[i] = updateVidXid(p[i],p_g,x[i],v[i],c_cog,c_soc,dim)\n",
    "\n",
    "    return  p_g, global_bestFit\n",
    "    #p_g: the position with the best fitness in the final generation.\n",
    "    #global_bestFit: value associated to p_g"
   ]
  },
  {
   "cell_type": "code",
   "execution_count": 8,
   "metadata": {
    "collapsed": true
   },
   "outputs": [],
   "source": [
    "numItr = 200\n",
    "npop = 50\n",
    "x_max = [3,1]\n",
    "x_min = [-2,-2]\n",
    "v_max = [0.1,0.1]\n",
    "dim = 2\n",
    "c_cog = 1.7\n",
    "c_soc = 1.7\n"
   ]
  },
  {
   "cell_type": "code",
   "execution_count": 9,
   "metadata": {
    "collapsed": false
   },
   "outputs": [],
   "source": [
    "p_g, global_bestFit = PSO(numItr,npop,x_max,x_min,v_max,dim,c_cog,c_soc)"
   ]
  },
  {
   "cell_type": "code",
   "execution_count": 10,
   "metadata": {
    "collapsed": false
   },
   "outputs": [
    {
     "data": {
      "text/plain": [
       "array([  3.40354371e+72,  -6.99666275e+41])"
      ]
     },
     "execution_count": 10,
     "metadata": {},
     "output_type": "execute_result"
    }
   ],
   "source": [
    "p_g"
   ]
  },
  {
   "cell_type": "code",
   "execution_count": 11,
   "metadata": {
    "collapsed": false
   },
   "outputs": [
    {
     "data": {
      "text/plain": [
       "1.0496487238137267e+72"
      ]
     },
     "execution_count": 11,
     "metadata": {},
     "output_type": "execute_result"
    }
   ],
   "source": [
    "global_bestFit"
   ]
  },
  {
   "cell_type": "markdown",
   "metadata": {},
   "source": [
    "### Please note that there's a bug in updatePid and updatePgd functions, we should deep copy the arrays not just use ="
   ]
  }
 ],
 "metadata": {
  "colab": {
   "collapsed_sections": [],
   "name": "PSO.ipynb",
   "provenance": [],
   "version": "0.3.2"
  },
  "kernelspec": {
   "display_name": "Python 2",
   "language": "python",
   "name": "python2"
  },
  "language_info": {
   "codemirror_mode": {
    "name": "ipython",
    "version": 2
   },
   "file_extension": ".py",
   "mimetype": "text/x-python",
   "name": "python",
   "nbconvert_exporter": "python",
   "pygments_lexer": "ipython2",
   "version": "2.7.12"
  }
 },
 "nbformat": 4,
 "nbformat_minor": 0
}
